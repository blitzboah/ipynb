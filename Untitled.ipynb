{
 "cells": [
  {
   "cell_type": "code",
   "execution_count": 18,
   "id": "d3ad7edc-49e0-47fa-9ad6-3b553abb4feb",
   "metadata": {},
   "outputs": [],
   "source": [
    "# exp 1 - mean, median, mode\n",
    "import pandas as pd\n",
    "import numpy as np"
   ]
  },
  {
   "cell_type": "code",
   "execution_count": 19,
   "id": "2ae18a8c-f8b5-4df1-81bb-4a25d6e3387b",
   "metadata": {},
   "outputs": [
    {
     "data": {
      "text/html": [
       "<div>\n",
       "<style scoped>\n",
       "    .dataframe tbody tr th:only-of-type {\n",
       "        vertical-align: middle;\n",
       "    }\n",
       "\n",
       "    .dataframe tbody tr th {\n",
       "        vertical-align: top;\n",
       "    }\n",
       "\n",
       "    .dataframe thead th {\n",
       "        text-align: right;\n",
       "    }\n",
       "</style>\n",
       "<table border=\"1\" class=\"dataframe\">\n",
       "  <thead>\n",
       "    <tr style=\"text-align: right;\">\n",
       "      <th></th>\n",
       "      <th>Open</th>\n",
       "      <th>High</th>\n",
       "      <th>Low</th>\n",
       "      <th>Close</th>\n",
       "      <th>Volume</th>\n",
       "    </tr>\n",
       "  </thead>\n",
       "  <tbody>\n",
       "    <tr>\n",
       "      <th>count</th>\n",
       "      <td>5033.000000</td>\n",
       "      <td>5033.000000</td>\n",
       "      <td>5033.000000</td>\n",
       "      <td>5033.000000</td>\n",
       "      <td>5.033000e+03</td>\n",
       "    </tr>\n",
       "    <tr>\n",
       "      <th>mean</th>\n",
       "      <td>5.214671</td>\n",
       "      <td>5.308604</td>\n",
       "      <td>5.117086</td>\n",
       "      <td>5.217039</td>\n",
       "      <td>5.587962e+08</td>\n",
       "    </tr>\n",
       "    <tr>\n",
       "      <th>std</th>\n",
       "      <td>9.643976</td>\n",
       "      <td>9.811276</td>\n",
       "      <td>9.465058</td>\n",
       "      <td>9.644928</td>\n",
       "      <td>3.363408e+08</td>\n",
       "    </tr>\n",
       "    <tr>\n",
       "      <th>min</th>\n",
       "      <td>0.080583</td>\n",
       "      <td>0.083917</td>\n",
       "      <td>0.077500</td>\n",
       "      <td>0.078583</td>\n",
       "      <td>4.564400e+07</td>\n",
       "    </tr>\n",
       "    <tr>\n",
       "      <th>25%</th>\n",
       "      <td>0.344000</td>\n",
       "      <td>0.349000</td>\n",
       "      <td>0.336500</td>\n",
       "      <td>0.343250</td>\n",
       "      <td>3.482920e+08</td>\n",
       "    </tr>\n",
       "    <tr>\n",
       "      <th>50%</th>\n",
       "      <td>0.544000</td>\n",
       "      <td>0.552750</td>\n",
       "      <td>0.532500</td>\n",
       "      <td>0.542000</td>\n",
       "      <td>4.910920e+08</td>\n",
       "    </tr>\n",
       "    <tr>\n",
       "      <th>75%</th>\n",
       "      <td>5.233750</td>\n",
       "      <td>5.296500</td>\n",
       "      <td>5.125000</td>\n",
       "      <td>5.229000</td>\n",
       "      <td>6.816760e+08</td>\n",
       "    </tr>\n",
       "    <tr>\n",
       "      <th>max</th>\n",
       "      <td>50.216000</td>\n",
       "      <td>50.548000</td>\n",
       "      <td>49.411999</td>\n",
       "      <td>50.409000</td>\n",
       "      <td>5.088948e+09</td>\n",
       "    </tr>\n",
       "  </tbody>\n",
       "</table>\n",
       "</div>"
      ],
      "text/plain": [
       "              Open         High          Low        Close        Volume\n",
       "count  5033.000000  5033.000000  5033.000000  5033.000000  5.033000e+03\n",
       "mean      5.214671     5.308604     5.117086     5.217039  5.587962e+08\n",
       "std       9.643976     9.811276     9.465058     9.644928  3.363408e+08\n",
       "min       0.080583     0.083917     0.077500     0.078583  4.564400e+07\n",
       "25%       0.344000     0.349000     0.336500     0.343250  3.482920e+08\n",
       "50%       0.544000     0.552750     0.532500     0.542000  4.910920e+08\n",
       "75%       5.233750     5.296500     5.125000     5.229000  6.816760e+08\n",
       "max      50.216000    50.548000    49.411999    50.409000  5.088948e+09"
      ]
     },
     "execution_count": 19,
     "metadata": {},
     "output_type": "execute_result"
    }
   ],
   "source": [
    "df = pd.read_csv(\"nvidia_stock_prices.csv\")\n",
    "df.describe()\n",
    "num_df = df.select_dtypes(include='number')\n",
    "num_df.describe()"
   ]
  },
  {
   "cell_type": "code",
   "execution_count": 20,
   "id": "87cbc55a-076d-49d4-974c-3acdec05b9f4",
   "metadata": {},
   "outputs": [
    {
     "name": "stdout",
     "output_type": "stream",
     "text": [
      "5.308604321774327\n",
      "High    5.308604\n",
      "Low     5.117086\n",
      "dtype: float64\n",
      "Open      5.214671e+00\n",
      "High      5.308604e+00\n",
      "Low       5.117086e+00\n",
      "Close     5.217039e+00\n",
      "Volume    5.587962e+08\n",
      "dtype: float64\n"
     ]
    }
   ],
   "source": [
    "#mean\n",
    "print(df['High'].mean()) #single col\n",
    "print(df[['High','Low']].mean()) #specific col\n",
    "\n",
    "print(num_df.mean()) #all col"
   ]
  },
  {
   "cell_type": "code",
   "execution_count": 21,
   "id": "bc433c28-eb73-4d2d-a1e9-4c6ac3baa9f6",
   "metadata": {},
   "outputs": [
    {
     "name": "stdout",
     "output_type": "stream",
     "text": [
      "0.5527499914169312\n",
      "High    0.55275\n",
      "Low     0.53250\n",
      "dtype: float64\n",
      "Open      5.440000e-01\n",
      "High      5.527500e-01\n",
      "Low       5.325000e-01\n",
      "Close     5.420000e-01\n",
      "Volume    4.910920e+08\n",
      "dtype: float64\n"
     ]
    }
   ],
   "source": [
    "#median\n",
    "print(df['High'].median())\n",
    "\n",
    "print(df[['High','Low']].median())\n",
    "\n",
    "print(num_df.median())"
   ]
  },
  {
   "cell_type": "code",
   "execution_count": 22,
   "id": "cc9228da-e972-43c2-8a17-762c800acfaa",
   "metadata": {},
   "outputs": [
    {
     "name": "stdout",
     "output_type": "stream",
     "text": [
      "0    0.37175\n",
      "Name: High, dtype: float64\n",
      "      High     Low\n",
      "0  0.37175  0.3595\n",
      "    Open     High     Low    Close       Volume\n",
      "0  0.314  0.37175  0.3595  0.36100  503448000.0\n",
      "1    NaN      NaN     NaN  0.49475          NaN\n"
     ]
    }
   ],
   "source": [
    "#mode\n",
    "print(num_df['High'].mode())\n",
    "\n",
    "print(num_df[['High','Low']].mode())\n",
    "\n",
    "print(num_df.mode())"
   ]
  },
  {
   "cell_type": "code",
   "execution_count": 25,
   "id": "198a4def-9c43-4f3c-9cfd-dd6821c8a6e1",
   "metadata": {},
   "outputs": [
    {
     "name": "stdout",
     "output_type": "stream",
     "text": [
      "0.3490000069141388\n",
      "0.5527499914169312\n",
      "5.296500205993652\n",
      "High    5.2965\n",
      "Low     5.1250\n",
      "Name: 0.75, dtype: float64\n",
      "Open      5.233750e+00\n",
      "High      5.296500e+00\n",
      "Low       5.125000e+00\n",
      "Close     5.229000e+00\n",
      "Volume    6.816760e+08\n",
      "Name: 0.75, dtype: float64\n"
     ]
    }
   ],
   "source": [
    "#quartile\n",
    "print(num_df['High'].quantile(0.25))\n",
    "print(num_df['High'].quantile(0.50))\n",
    "print(num_df['High'].quantile(0.75))\n",
    "\n",
    "print(num_df[['High','Low']].quantile(0.75))\n",
    "\n",
    "print(num_df.quantile(0.75))"
   ]
  },
  {
   "cell_type": "code",
   "execution_count": 31,
   "id": "57a8340a-9d1c-4fbc-bdd2-1292b03722d3",
   "metadata": {},
   "outputs": [
    {
     "name": "stdout",
     "output_type": "stream",
     "text": [
      "0.124499998986721\n",
      "3.7680598926544193\n",
      "13.627249717712402\n"
     ]
    }
   ],
   "source": [
    "#percentile\n",
    "print(np.percentile(num_df['High'], 1))\n",
    "print(np.percentile(num_df['Low'], 69))\n",
    "print(np.percentile(num_df, 69))"
   ]
  },
  {
   "cell_type": "code",
   "execution_count": 35,
   "id": "fd03bb3a-a59d-4678-8d8b-baa7e9999941",
   "metadata": {},
   "outputs": [
    {
     "name": "stdout",
     "output_type": "stream",
     "text": [
      "4.885750085115433\n"
     ]
    }
   ],
   "source": [
    "#iqr\n",
    "q1, q3 = np.percentile(num_df['Close'], [25,75])\n",
    "iqr = q3-q1\n",
    "print(iqr)"
   ]
  },
  {
   "cell_type": "code",
   "execution_count": 38,
   "id": "1bf201db-4830-4aa0-b335-b4030393506b",
   "metadata": {},
   "outputs": [
    {
     "name": "stdout",
     "output_type": "stream",
     "text": [
      "5043304000\n"
     ]
    }
   ],
   "source": [
    "#range\n",
    "range_df = df['Volume'].max() - df['Volume'].min()\n",
    "print(range_df)"
   ]
  },
  {
   "cell_type": "code",
   "execution_count": 40,
   "id": "d6481d65-f8ff-42b4-bfc9-4b87601e8ff1",
   "metadata": {},
   "outputs": [
    {
     "name": "stdout",
     "output_type": "stream",
     "text": [
      "9.81127601553815\n",
      "96.26113705307417\n"
     ]
    }
   ],
   "source": [
    "#sd and var\n",
    "print(df['High'].std())\n",
    "print(df['High'].var())"
   ]
  },
  {
   "cell_type": "code",
   "execution_count": null,
   "id": "4200c1d8-3888-4a42-ad91-8f06be37fa68",
   "metadata": {},
   "outputs": [],
   "source": []
  }
 ],
 "metadata": {
  "kernelspec": {
   "display_name": "Python 3 (ipykernel)",
   "language": "python",
   "name": "python3"
  },
  "language_info": {
   "codemirror_mode": {
    "name": "ipython",
    "version": 3
   },
   "file_extension": ".py",
   "mimetype": "text/x-python",
   "name": "python",
   "nbconvert_exporter": "python",
   "pygments_lexer": "ipython3",
   "version": "3.12.1"
  }
 },
 "nbformat": 4,
 "nbformat_minor": 5
}
